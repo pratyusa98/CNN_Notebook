{
 "cells": [
  {
   "cell_type": "code",
   "execution_count": 7,
   "metadata": {},
   "outputs": [],
   "source": [
    "# Importing the libraries\n",
    "import tensorflow as tf\n",
    "from tensorflow.keras.preprocessing.image import ImageDataGenerator\n",
    "import tensorflow_hub as hub"
   ]
  },
  {
   "cell_type": "code",
   "execution_count": 8,
   "metadata": {},
   "outputs": [],
   "source": [
    "IMG_SHAPE = 224 # match image dimension to mobile net input"
   ]
  },
  {
   "cell_type": "code",
   "execution_count": 9,
   "metadata": {},
   "outputs": [
    {
     "name": "stdout",
     "output_type": "stream",
     "text": [
      "Found 715 images belonging to 4 classes.\n"
     ]
    }
   ],
   "source": [
    "#data sugmentation\n",
    "# Preprocessing the Training set\n",
    "train_datagen = ImageDataGenerator(rescale=1./255,\n",
    "                                      rotation_range=40,\n",
    "                                      width_shift_range=0.2,\n",
    "                                      height_shift_range=0.2,\n",
    "                                      shear_range=0.2,\n",
    "                                      zoom_range=0.2,\n",
    "                                      horizontal_flip=True,\n",
    "                                      fill_mode='nearest')\n",
    "train_set = train_datagen.flow_from_directory('Soil_Dataset/Train',\n",
    "                                                 target_size = (224,224),\n",
    "                                                 batch_size = 32,\n",
    "                                                class_mode=\"categorical\")"
   ]
  },
  {
   "cell_type": "code",
   "execution_count": 10,
   "metadata": {},
   "outputs": [
    {
     "name": "stdout",
     "output_type": "stream",
     "text": [
      "Found 188 images belonging to 4 classes.\n"
     ]
    }
   ],
   "source": [
    "# Preprocessing the Test set\n",
    "test_datagen = ImageDataGenerator(rescale = 1./255)\n",
    "testing_set = test_datagen.flow_from_directory('Soil_Dataset/Test',\n",
    "                                            target_size = (224,224),\n",
    "                                            batch_size = 32,\n",
    "                                            class_mode=\"categorical\")"
   ]
  },
  {
   "cell_type": "code",
   "execution_count": 11,
   "metadata": {},
   "outputs": [],
   "source": [
    "# getting MobileNet\n",
    "URL = \"https://tfhub.dev/google/tf2-preview/mobilenet_v2/feature_vector/4\"\n",
    "mobile_net = hub.KerasLayer(URL, input_shape=(IMG_SHAPE, IMG_SHAPE, 3))"
   ]
  },
  {
   "cell_type": "code",
   "execution_count": 12,
   "metadata": {},
   "outputs": [],
   "source": [
    "mobile_net.trainable = False"
   ]
  },
  {
   "cell_type": "code",
   "execution_count": 13,
   "metadata": {},
   "outputs": [],
   "source": [
    "model = tf.keras.models.Sequential([\n",
    "    mobile_net,\n",
    "    tf.keras.layers.Dense(4, activation='softmax') #[0, 1] or [1, 0]\n",
    "    ])"
   ]
  },
  {
   "cell_type": "code",
   "execution_count": 14,
   "metadata": {},
   "outputs": [],
   "source": [
    "model.compile(optimizer='adam',\n",
    "              loss='categorical_crossentropy',\n",
    "              metrics=['accuracy'])"
   ]
  },
  {
   "cell_type": "code",
   "execution_count": 15,
   "metadata": {},
   "outputs": [
    {
     "name": "stderr",
     "output_type": "stream",
     "text": [
      "C:\\Users\\Dell\\AppData\\Roaming\\Python\\Python37\\site-packages\\tensorflow\\python\\keras\\engine\\training.py:1844: UserWarning: `Model.fit_generator` is deprecated and will be removed in a future version. Please use `Model.fit`, which supports generators.\n",
      "  warnings.warn('`Model.fit_generator` is deprecated and '\n"
     ]
    },
    {
     "name": "stdout",
     "output_type": "stream",
     "text": [
      "Epoch 1/20\n",
      "23/23 [==============================] - 64s 3s/step - loss: 1.2271 - accuracy: 0.4775 - val_loss: 0.7399 - val_accuracy: 0.6702\n",
      "Epoch 2/20\n",
      "23/23 [==============================] - 51s 2s/step - loss: 0.4283 - accuracy: 0.8644 - val_loss: 0.5650 - val_accuracy: 0.7766\n",
      "Epoch 3/20\n",
      "23/23 [==============================] - 58s 3s/step - loss: 0.2993 - accuracy: 0.9196 - val_loss: 0.4170 - val_accuracy: 0.8191\n",
      "Epoch 4/20\n",
      "23/23 [==============================] - 58s 3s/step - loss: 0.2578 - accuracy: 0.9158 - val_loss: 0.3917 - val_accuracy: 0.8191\n",
      "Epoch 5/20\n",
      "23/23 [==============================] - 57s 2s/step - loss: 0.2199 - accuracy: 0.9349 - val_loss: 0.4278 - val_accuracy: 0.8511\n",
      "Epoch 6/20\n",
      "23/23 [==============================] - 54s 2s/step - loss: 0.1839 - accuracy: 0.9331 - val_loss: 0.3754 - val_accuracy: 0.8511\n",
      "Epoch 7/20\n",
      "23/23 [==============================] - 57s 2s/step - loss: 0.1700 - accuracy: 0.9382 - val_loss: 0.3822 - val_accuracy: 0.8511\n",
      "Epoch 8/20\n",
      "23/23 [==============================] - 49s 2s/step - loss: 0.1693 - accuracy: 0.9632 - val_loss: 0.3820 - val_accuracy: 0.8511\n",
      "Epoch 9/20\n",
      "23/23 [==============================] - 49s 2s/step - loss: 0.1495 - accuracy: 0.9572 - val_loss: 0.3375 - val_accuracy: 0.8617\n",
      "Epoch 10/20\n",
      "23/23 [==============================] - 49s 2s/step - loss: 0.1424 - accuracy: 0.9516 - val_loss: 0.2913 - val_accuracy: 0.8830\n",
      "Epoch 11/20\n",
      "23/23 [==============================] - 49s 2s/step - loss: 0.1432 - accuracy: 0.9505 - val_loss: 0.3494 - val_accuracy: 0.8617\n",
      "Epoch 12/20\n",
      "23/23 [==============================] - 49s 2s/step - loss: 0.1043 - accuracy: 0.9761 - val_loss: 0.3314 - val_accuracy: 0.8564\n",
      "Epoch 13/20\n",
      "23/23 [==============================] - 49s 2s/step - loss: 0.0956 - accuracy: 0.9764 - val_loss: 0.3188 - val_accuracy: 0.8617\n",
      "Epoch 14/20\n",
      "23/23 [==============================] - 49s 2s/step - loss: 0.1033 - accuracy: 0.9576 - val_loss: 0.3385 - val_accuracy: 0.8617\n",
      "Epoch 15/20\n",
      "23/23 [==============================] - 50s 2s/step - loss: 0.1029 - accuracy: 0.9852 - val_loss: 0.3077 - val_accuracy: 0.8670\n",
      "Epoch 16/20\n",
      "23/23 [==============================] - 50s 2s/step - loss: 0.1000 - accuracy: 0.9767 - val_loss: 0.3348 - val_accuracy: 0.8511\n",
      "Epoch 17/20\n",
      "23/23 [==============================] - 50s 2s/step - loss: 0.0989 - accuracy: 0.9667 - val_loss: 0.3186 - val_accuracy: 0.8617\n",
      "Epoch 18/20\n",
      "23/23 [==============================] - 50s 2s/step - loss: 0.0839 - accuracy: 0.9811 - val_loss: 0.2785 - val_accuracy: 0.8777\n",
      "Epoch 19/20\n",
      "23/23 [==============================] - 51s 2s/step - loss: 0.0859 - accuracy: 0.9770 - val_loss: 0.2904 - val_accuracy: 0.8883\n",
      "Epoch 20/20\n",
      "23/23 [==============================] - 50s 2s/step - loss: 0.0797 - accuracy: 0.9842 - val_loss: 0.3044 - val_accuracy: 0.8723\n"
     ]
    }
   ],
   "source": [
    "history = model.fit_generator(\n",
    "    train_set,\n",
    "    epochs=20,\n",
    "    validation_data=testing_set\n",
    "    )"
   ]
  },
  {
   "cell_type": "code",
   "execution_count": 16,
   "metadata": {},
   "outputs": [],
   "source": [
    "#save model\n",
    "from tensorflow.keras.models import load_model\n",
    "model.save('soil_mobilenet.h5')"
   ]
  },
  {
   "cell_type": "code",
   "execution_count": 17,
   "metadata": {},
   "outputs": [],
   "source": [
    "from tensorflow.keras.models import load_model\n",
    "model = load_model(('soil_mobilenet.h5'),custom_objects={'KerasLayer':hub.KerasLayer})"
   ]
  },
  {
   "cell_type": "code",
   "execution_count": 31,
   "metadata": {},
   "outputs": [],
   "source": [
    "# Part 4 - Making a single prediction\n",
    "\n",
    "import numpy as np\n",
    "from tensorflow.keras.preprocessing import image\n",
    "test_image = image.load_img('4.png', target_size = (224,224))\n",
    "test_image = image.img_to_array(test_image)\n",
    "test_image=test_image/255\n",
    "test_image = np.expand_dims(test_image, axis = 0)\n",
    "result = model.predict(test_image)\n",
    "result = np.argmax(result)\n",
    "soil_type = result"
   ]
  },
  {
   "cell_type": "code",
   "execution_count": 32,
   "metadata": {},
   "outputs": [
    {
     "data": {
      "text/plain": [
       "3"
      ]
     },
     "execution_count": 32,
     "metadata": {},
     "output_type": "execute_result"
    }
   ],
   "source": [
    "result"
   ]
  },
  {
   "cell_type": "code",
   "execution_count": 33,
   "metadata": {},
   "outputs": [
    {
     "name": "stdout",
     "output_type": "stream",
     "text": [
      "This is Red Soil\n"
     ]
    }
   ],
   "source": [
    "if soil_type==0:\n",
    "  print('This Is Alluvial_Soil')\n",
    "elif soil_type ==1:\n",
    "  print('This is Black Soil')\n",
    "elif soil_type == 2:\n",
    "  print('This is Clay Soil')\n",
    "else:\n",
    "  print('This is Red Soil')"
   ]
  },
  {
   "cell_type": "code",
   "execution_count": null,
   "metadata": {},
   "outputs": [],
   "source": []
  }
 ],
 "metadata": {
  "kernelspec": {
   "display_name": "Python 3",
   "language": "python",
   "name": "python3"
  },
  "language_info": {
   "codemirror_mode": {
    "name": "ipython",
    "version": 3
   },
   "file_extension": ".py",
   "mimetype": "text/x-python",
   "name": "python",
   "nbconvert_exporter": "python",
   "pygments_lexer": "ipython3",
   "version": "3.7.6"
  }
 },
 "nbformat": 4,
 "nbformat_minor": 4
}
